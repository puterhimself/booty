{
 "cells": [
  {
   "cell_type": "code",
   "execution_count": 3,
   "metadata": {},
   "outputs": [],
   "source": [
    "import math\n",
    "import numpy as np\n",
    "import pandas as pd\n",
    "from backtesting import lib\n",
    "from datetime import datetime\n",
    "from userData.strategies.MA import MA"
   ]
  },
  {
   "cell_type": "code",
   "execution_count": 6,
   "metadata": {},
   "outputs": [],
   "source": [
    "def Scrip(scrip, interval='1m', From='1 Aug, 2017', Till=None, save=False, update=False, file=None):\n",
    "        file = os.path.join(sys.path[0], 'userData','data/{}.csv'.format(scrip)) if file is None else file\n",
    "        Till = date.today().strftime('%d %b, %Y') if Till is None else Till\n",
    "        if update:\n",
    "            _cols = [\"datetime\", \"open\", \"high\", \"low\", \"close\", \"volume\", \"closetime\", \\\n",
    "            \"quoteassetvolume\", \"trades\", \"basetbav\", \"quotetbav\", \"ignore\", ]\n",
    "            temp = pd.read_csv(file, names=_cols)\n",
    "            temp = temp.dropna()\n",
    "            temp['dt'] = pd.to_datetime(temp['datetime'], unit='ms')\n",
    "            From = temp['dt'].iloc[-1].date()\n",
    "            \n",
    "            temp = temp.drop(index=temp.loc[temp['dt'].dt.date == From].index)\n",
    "            fetched = Scrip(scrip, From=From.strftime('%d %b, %Y'), interval=interval)\n",
    "            temp = pd.concat([temp, fetched])\n",
    "        else:\n",
    "            temp = SpotClient.get_historical_klines(scrip, interval, From)\n",
    "            temp = pd.DataFrame.from_records(temp, columns=Name)\n",
    "        \n",
    "        if save: temp.to_csv(file, index=False); print('saving Df'); return\n",
    "        return temp"
   ]
  },
  {
   "cell_type": "code",
   "execution_count": 5,
   "metadata": {},
   "outputs": [],
   "source": [
    "def mod(df: pd.DataFrame, p: MA) -> pd.DataFrame:\n",
    "    \n",
    "#         df = df.resample(p.timeframe, key='dt').apply(lib.OHLCV_AGG)\n",
    "#         df.columns = [i.lower() for i in df.columns]\n",
    "        df = p.populate_indicators(self, dataframe=df, metadata={})\n",
    "        df = p.populate_buy_trend(self, dataframe=df, metadata={})\n",
    "        df = p.populate_sell_trend(self, dataframe=df, metadata={})\n",
    "\n",
    "        return df"
   ]
  },
  {
   "cell_type": "code",
   "execution_count": null,
   "metadata": {},
   "outputs": [],
   "source": []
  },
  {
   "cell_type": "code",
   "execution_count": null,
   "metadata": {},
   "outputs": [],
   "source": []
  },
  {
   "cell_type": "code",
   "execution_count": null,
   "metadata": {},
   "outputs": [],
   "source": []
  },
  {
   "cell_type": "code",
   "execution_count": null,
   "metadata": {},
   "outputs": [],
   "source": []
  },
  {
   "cell_type": "code",
   "execution_count": null,
   "metadata": {},
   "outputs": [],
   "source": []
  },
  {
   "cell_type": "code",
   "execution_count": null,
   "metadata": {},
   "outputs": [],
   "source": []
  }
 ],
 "metadata": {
  "kernelspec": {
   "display_name": "Python 3",
   "language": "python",
   "name": "python3"
  },
  "language_info": {
   "codemirror_mode": {
    "name": "ipython",
    "version": 3
   },
   "file_extension": ".py",
   "mimetype": "text/x-python",
   "name": "python",
   "nbconvert_exporter": "python",
   "pygments_lexer": "ipython3",
   "version": "3.6.8"
  }
 },
 "nbformat": 4,
 "nbformat_minor": 2
}
